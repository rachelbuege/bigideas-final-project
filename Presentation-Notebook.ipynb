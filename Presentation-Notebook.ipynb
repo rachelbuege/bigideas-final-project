{
 "cells": [
  {
   "cell_type": "markdown",
   "metadata": {},
   "source": [
    "## Introduction: \n",
    "To find the best neighborhood in Pittsburgh, we first established three metrics to base our decision on. We asked ourselves what our ideal city would look like and based our metrics on our top answers. We discussed metrics like walkability, income, and education before ultimately we decided to base our decision on health, poverty, and the prevalence of public art. Utilizing datasets from the Western Pennsylvania Regional Data Center (WPRDC), we explored the ‘best’ neighborhoods in Pittsburgh. \n",
    "\n",
    "## The Metric: \n",
    "The metric that we applied would be the neighborhood that ranked within the top 30 percent for each submetric. We measured the features of the health, poverty rates, and the prevalence of public art to determine which neighborhood had the best ranking for each. Exact datasets include analyzing the total amount of public art exhibits in Pittsburgh neighborhoods, the median age at death per neighborhood, and Poverty Status of Individuals in the Past 12 Months by Living Arrangements, which we were able to then determine which neighborhoods were in the top 30 percent for each.   \n",
    "\n",
    "## The Best Neighborhood: \n",
    "After consideration of all of the data from the submetrics, our group has determined that Squirrel Hill South is the best neighborhood in the Pittsburgh area. Squirrel Hill South has the most overlap between all submetrics, being the top city for health, top 30 lowest poverty rates, and number two for total public art amount \n",
    "\n",
    "## Conclusion:\n",
    "Squirrel Hill South being decided as the best neighborhood matches closely with our personal favorites. Not only is it a fun neighborhood with many places to shop, eat, or hangout, the data collected shows that it ranks in the top 30% of our neighborhoods in our chosen categories of health, environment, and the prevalence of public art. \n"
   ]
  },
  {
   "cell_type": "code",
   "execution_count": null,
   "metadata": {},
   "outputs": [],
   "source": []
  }
 ],
 "metadata": {
  "kernelspec": {
   "display_name": "Python 3",
   "language": "python",
   "name": "python3"
  },
  "language_info": {
   "codemirror_mode": {
    "name": "ipython",
    "version": 3
   },
   "file_extension": ".py",
   "mimetype": "text/x-python",
   "name": "python",
   "nbconvert_exporter": "python",
   "pygments_lexer": "ipython3",
   "version": "3.8.3"
  }
 },
 "nbformat": 4,
 "nbformat_minor": 4
}
