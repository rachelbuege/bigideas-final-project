{
 "cells": [
  {
   "cell_type": "markdown",
   "metadata": {},
   "source": [
    "\n",
    "### Submetric Description\n",
    "\n",
    "The decided metric for measuring the environment is air quality. The index value of air quality is a determinant of what organisms are able to live in an area including plants, animals, and of course humans. Pollutants are a reality of today that affect our air quality levels and we should be aware of them. The higher the index value the more pollutants present. Additional to this, individuals with certain health issues may be greater impacted by poor air quality, so it is important to recognize what parts of Pittsburgh may be pose high threats to these individuals. \n",
    "\n",
    "### Submetric Features/Dataset\n",
    "\n",
    "We are measuring here the different neighborhood's hourly air quality dating back from 2016 to now 2023. The higher the index value, the lesser rating of the neighborhood. According to the Allegheny County health department, an index value between 0 and 50 is \"good,\" 51 and 100 is \"moderate,\" 101 and 150 is \"unhealthy for sensitive groups,\" and 151 and 200 is \"uhealthy.\" Hence, by analyzing the index values over time we are able to determine which areas have the best air quality.\n",
    "\n",
    "\n"
   ]
  },
  {
   "cell_type": "code",
   "execution_count": null,
   "metadata": {},
   "outputs": [],
   "source": [
    "import pandas as pd\n",
    "%matplotlib inline\n",
    "data = pd.read_csv(\"air.csv\")\n",
    "data.plot(kind='scatter', x='index_value', y='site', title=\"Neighborhood vs. Index_value\" ,color = 'green')"
   ]
  },
  {
   "cell_type": "code",
   "execution_count": null,
   "metadata": {},
   "outputs": [
    {
     "data": {
      "text/plain": [
       "<matplotlib.axes._subplots.AxesSubplot at 0x7fde7dd32520>"
      ]
     },
     "execution_count": 2,
     "metadata": {},
     "output_type": "execute_result"
    }
   ],
   "source": []
  },
  {
   "cell_type": "markdown",
   "metadata": {},
   "source": [
    "### Reflection\n"
   ]
  },
  {
   "cell_type": "code",
   "execution_count": null,
   "metadata": {},
   "outputs": [],
   "source": []
  }
 ],
 "metadata": {
  "kernelspec": {
   "display_name": "Python 3",
   "language": "python",
   "name": "python3"
  },
  "language_info": {
   "codemirror_mode": {
    "name": "ipython",
    "version": 3
   },
   "file_extension": ".py",
   "mimetype": "text/x-python",
   "name": "python",
   "nbconvert_exporter": "python",
   "pygments_lexer": "ipython3",
   "version": "3.8.3"
  }
 },
 "nbformat": 4,
 "nbformat_minor": 4
}
